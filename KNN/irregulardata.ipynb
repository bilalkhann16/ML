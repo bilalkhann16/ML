{
 "cells": [
  {
   "cell_type": "code",
   "execution_count": 1,
   "id": "0598f7a4-c9f5-4383-a589-7895b53ae90a",
   "metadata": {},
   "outputs": [],
   "source": [
    "import sklearn\n",
    "from sklearn.utils import shuffle\n",
    "from sklearn.neighbors import KNeighborsClassifier\n",
    "import pandas as pd\n",
    "import numpy as np\n",
    "from sklearn import linear_model, preprocessing"
   ]
  },
  {
   "cell_type": "code",
   "execution_count": null,
   "id": "686080cc-a916-445c-b0ca-33c662a8d90a",
   "metadata": {},
   "outputs": [],
   "source": []
  },
  {
   "cell_type": "code",
   "execution_count": 3,
   "id": "0245b040-93e3-49d4-89fb-16f7e9b0b9a5",
   "metadata": {},
   "outputs": [
    {
     "data": {
      "text/html": [
       "<div>\n",
       "<style scoped>\n",
       "    .dataframe tbody tr th:only-of-type {\n",
       "        vertical-align: middle;\n",
       "    }\n",
       "\n",
       "    .dataframe tbody tr th {\n",
       "        vertical-align: top;\n",
       "    }\n",
       "\n",
       "    .dataframe thead th {\n",
       "        text-align: right;\n",
       "    }\n",
       "</style>\n",
       "<table border=\"1\" class=\"dataframe\">\n",
       "  <thead>\n",
       "    <tr style=\"text-align: right;\">\n",
       "      <th></th>\n",
       "      <th>buying</th>\n",
       "      <th>maint</th>\n",
       "      <th>door</th>\n",
       "      <th>persons</th>\n",
       "      <th>lug_boot</th>\n",
       "      <th>safety</th>\n",
       "      <th>class</th>\n",
       "    </tr>\n",
       "  </thead>\n",
       "  <tbody>\n",
       "    <tr>\n",
       "      <th>0</th>\n",
       "      <td>vhigh</td>\n",
       "      <td>vhigh</td>\n",
       "      <td>2</td>\n",
       "      <td>2</td>\n",
       "      <td>small</td>\n",
       "      <td>low</td>\n",
       "      <td>unacc</td>\n",
       "    </tr>\n",
       "    <tr>\n",
       "      <th>1</th>\n",
       "      <td>vhigh</td>\n",
       "      <td>vhigh</td>\n",
       "      <td>2</td>\n",
       "      <td>2</td>\n",
       "      <td>small</td>\n",
       "      <td>med</td>\n",
       "      <td>unacc</td>\n",
       "    </tr>\n",
       "    <tr>\n",
       "      <th>2</th>\n",
       "      <td>vhigh</td>\n",
       "      <td>vhigh</td>\n",
       "      <td>2</td>\n",
       "      <td>2</td>\n",
       "      <td>small</td>\n",
       "      <td>high</td>\n",
       "      <td>unacc</td>\n",
       "    </tr>\n",
       "    <tr>\n",
       "      <th>3</th>\n",
       "      <td>vhigh</td>\n",
       "      <td>vhigh</td>\n",
       "      <td>2</td>\n",
       "      <td>2</td>\n",
       "      <td>med</td>\n",
       "      <td>low</td>\n",
       "      <td>unacc</td>\n",
       "    </tr>\n",
       "    <tr>\n",
       "      <th>4</th>\n",
       "      <td>vhigh</td>\n",
       "      <td>vhigh</td>\n",
       "      <td>2</td>\n",
       "      <td>2</td>\n",
       "      <td>med</td>\n",
       "      <td>med</td>\n",
       "      <td>unacc</td>\n",
       "    </tr>\n",
       "  </tbody>\n",
       "</table>\n",
       "</div>"
      ],
      "text/plain": [
       "  buying  maint door persons lug_boot safety  class\n",
       "0  vhigh  vhigh    2       2    small    low  unacc\n",
       "1  vhigh  vhigh    2       2    small    med  unacc\n",
       "2  vhigh  vhigh    2       2    small   high  unacc\n",
       "3  vhigh  vhigh    2       2      med    low  unacc\n",
       "4  vhigh  vhigh    2       2      med    med  unacc"
      ]
     },
     "execution_count": 3,
     "metadata": {},
     "output_type": "execute_result"
    }
   ],
   "source": [
    "data = pd.read_csv(\"car.csv\")\n",
    "data.head()\n",
    "\n",
    "# . PRICE overall price\n",
    "# . . buying buying price\n",
    "# . . maint price of the maintenance\n",
    "# . TECH technical characteristics\n",
    "# . . COMFORT comfort\n",
    "# . . . doors number of doors\n",
    "# . . . persons capacity in terms of persons to carry\n",
    "# . . . lug_boot the size of luggage boot\n",
    "# . . safety estimated safety of the car "
   ]
  },
  {
   "cell_type": "markdown",
   "id": "a06ced7f-e356-4695-8e62-c96538c301a2",
   "metadata": {},
   "source": [
    "## Pre-Processing"
   ]
  },
  {
   "cell_type": "code",
   "execution_count": 7,
   "id": "431d6f65-cb3d-4744-80cb-69817bbec726",
   "metadata": {},
   "outputs": [
    {
     "name": "stdout",
     "output_type": "stream",
     "text": [
      "[3 3 3 ... 1 1 1]\n"
     ]
    }
   ],
   "source": [
    "# (converting strings to int)\n",
    "le = preprocessing.LabelEncoder()\n",
    "buying = list (data['buying'])\n",
    "buying = le.fit_transform(buying)\n",
    "print (buying)"
   ]
  },
  {
   "cell_type": "code",
   "execution_count": 15,
   "id": "90497fe6-f87a-476b-9970-20a5ebf3b1a6",
   "metadata": {},
   "outputs": [],
   "source": [
    "maint = le.fit_transform(list(data[\"maint\"]))\n",
    "door = le.fit_transform(list(data[\"door\"]))\n",
    "persons = le.fit_transform(list(data[\"persons\"]))\n",
    "lug_boot = le.fit_transform(list(data[\"lug_boot\"]))\n",
    "safety = le.fit_transform(list(data[\"safety\"]))\n",
    "cls = le.fit_transform(list(data[\"class\"]))"
   ]
  },
  {
   "cell_type": "code",
   "execution_count": 22,
   "id": "30ae6f80-8c08-41a2-882c-fcb49552e8ca",
   "metadata": {},
   "outputs": [],
   "source": [
    "predict = \"class\"\n",
    "X = list (zip(buying, maint, door, persons, lug_boot,safety))\n",
    "y = list(cls)"
   ]
  },
  {
   "cell_type": "code",
   "execution_count": 27,
   "id": "6bd5ebb4-1c90-4a49-a7fe-01c15b528928",
   "metadata": {},
   "outputs": [],
   "source": [
    "x_train, x_test, y_train, y_test = sklearn.model_selection.train_test_split(X, y, test_size = 0.1)"
   ]
  },
  {
   "cell_type": "code",
   "execution_count": 62,
   "id": "08ef0226-8850-4d59-8641-82e2e04a5259",
   "metadata": {},
   "outputs": [
    {
     "name": "stdout",
     "output_type": "stream",
     "text": [
      "(3, 2, 3, 2, 1, 0) (2, 0, 3, 0, 1, 1) 0 2\n"
     ]
    }
   ],
   "source": [
    "print (x_train[0], x_test[0], y_train[0], y_test[0])"
   ]
  },
  {
   "cell_type": "code",
   "execution_count": 47,
   "id": "39511ae1-7ce6-4411-b25d-9283e54ae9c1",
   "metadata": {},
   "outputs": [],
   "source": [
    "model = KNeighborsClassifier(n_neighbors=6)"
   ]
  },
  {
   "cell_type": "code",
   "execution_count": 48,
   "id": "4ca2cf03-af15-4b4b-9e28-f22974bfadf8",
   "metadata": {},
   "outputs": [
    {
     "data": {
      "text/plain": [
       "KNeighborsClassifier(n_neighbors=6)"
      ]
     },
     "execution_count": 48,
     "metadata": {},
     "output_type": "execute_result"
    }
   ],
   "source": [
    "model.fit (x_train, y_train)\n"
   ]
  },
  {
   "cell_type": "code",
   "execution_count": 49,
   "id": "77bf64b9-4609-414e-9001-293d7b04dfee",
   "metadata": {},
   "outputs": [
    {
     "name": "stdout",
     "output_type": "stream",
     "text": [
      "0.9075144508670521\n"
     ]
    }
   ],
   "source": [
    "acc = model.score(x_test,y_test)\n",
    "print (acc)"
   ]
  },
  {
   "cell_type": "code",
   "execution_count": 51,
   "id": "d378e423-15df-45c2-a183-9d092e3a419d",
   "metadata": {},
   "outputs": [
    {
     "name": "stdout",
     "output_type": "stream",
     "text": [
      "0.9421965317919075\n"
     ]
    }
   ],
   "source": [
    "#changing the n to improve the overall score of the model.\n",
    "model1 = KNeighborsClassifier(n_neighbors=9)\n",
    "model1.fit (x_train, y_train)\n",
    "acc = model1.score(x_test,y_test)\n",
    "print (acc)\n"
   ]
  },
  {
   "cell_type": "code",
   "execution_count": 59,
   "id": "ca162066-b605-421a-946c-0d0048ea15b5",
   "metadata": {},
   "outputs": [
    {
     "name": "stdout",
     "output_type": "stream",
     "text": [
      "Predicted:  good Data:  (2, 0, 3, 0, 1, 1) Actual:  good\n",
      "Predicted:  good Data:  (0, 1, 0, 0, 0, 1) Actual:  good\n",
      "Predicted:  good Data:  (1, 1, 1, 2, 2, 2) Actual:  unacc\n",
      "Predicted:  good Data:  (2, 1, 2, 1, 2, 1) Actual:  good\n",
      "Predicted:  good Data:  (3, 2, 2, 1, 1, 1) Actual:  good\n",
      "Predicted:  good Data:  (1, 1, 0, 0, 2, 1) Actual:  good\n",
      "Predicted:  vgood Data:  (2, 2, 3, 2, 1, 0) Actual:  vgood\n",
      "Predicted:  unacc Data:  (1, 3, 0, 2, 2, 0) Actual:  good\n",
      "Predicted:  good Data:  (2, 0, 0, 0, 2, 1) Actual:  good\n",
      "Predicted:  good Data:  (0, 2, 3, 0, 2, 1) Actual:  good\n",
      "Predicted:  good Data:  (3, 1, 3, 2, 2, 2) Actual:  good\n",
      "Predicted:  good Data:  (1, 3, 1, 1, 1, 1) Actual:  good\n",
      "Predicted:  good Data:  (3, 2, 2, 1, 2, 1) Actual:  good\n",
      "Predicted:  unacc Data:  (3, 1, 3, 1, 1, 0) Actual:  unacc\n",
      "Predicted:  good Data:  (1, 3, 0, 0, 1, 0) Actual:  good\n",
      "Predicted:  good Data:  (1, 3, 0, 1, 2, 1) Actual:  good\n",
      "Predicted:  good Data:  (3, 0, 3, 2, 2, 0) Actual:  good\n",
      "Predicted:  unacc Data:  (1, 0, 3, 2, 0, 2) Actual:  unacc\n",
      "Predicted:  good Data:  (1, 0, 1, 0, 2, 1) Actual:  good\n",
      "Predicted:  good Data:  (0, 2, 0, 0, 2, 0) Actual:  good\n",
      "Predicted:  good Data:  (0, 3, 0, 1, 0, 1) Actual:  good\n",
      "Predicted:  good Data:  (3, 1, 1, 2, 1, 1) Actual:  good\n",
      "Predicted:  good Data:  (1, 2, 2, 1, 1, 1) Actual:  good\n",
      "Predicted:  unacc Data:  (0, 1, 3, 2, 1, 2) Actual:  unacc\n",
      "Predicted:  good Data:  (3, 1, 1, 0, 2, 1) Actual:  good\n",
      "Predicted:  good Data:  (0, 1, 0, 2, 1, 1) Actual:  good\n",
      "Predicted:  good Data:  (2, 1, 1, 1, 0, 0) Actual:  vgood\n",
      "Predicted:  good Data:  (0, 0, 3, 0, 2, 0) Actual:  good\n",
      "Predicted:  good Data:  (2, 2, 1, 0, 0, 1) Actual:  good\n",
      "Predicted:  good Data:  (2, 0, 3, 2, 1, 2) Actual:  unacc\n",
      "Predicted:  good Data:  (2, 0, 2, 1, 1, 1) Actual:  good\n",
      "Predicted:  unacc Data:  (3, 1, 0, 2, 0, 0) Actual:  unacc\n",
      "Predicted:  good Data:  (3, 1, 1, 0, 0, 1) Actual:  good\n",
      "Predicted:  good Data:  (1, 2, 0, 2, 1, 1) Actual:  good\n",
      "Predicted:  unacc Data:  (1, 0, 0, 1, 0, 0) Actual:  vgood\n",
      "Predicted:  good Data:  (2, 0, 1, 0, 1, 1) Actual:  good\n",
      "Predicted:  unacc Data:  (3, 1, 2, 2, 0, 0) Actual:  unacc\n",
      "Predicted:  good Data:  (2, 0, 3, 0, 1, 2) Actual:  good\n",
      "Predicted:  good Data:  (3, 3, 3, 2, 2, 2) Actual:  good\n",
      "Predicted:  good Data:  (3, 0, 0, 1, 1, 1) Actual:  good\n",
      "Predicted:  good Data:  (3, 3, 2, 2, 0, 2) Actual:  good\n",
      "Predicted:  unacc Data:  (2, 1, 0, 2, 0, 2) Actual:  acc\n",
      "Predicted:  good Data:  (1, 2, 3, 0, 0, 0) Actual:  good\n",
      "Predicted:  unacc Data:  (1, 0, 1, 2, 2, 0) Actual:  unacc\n",
      "Predicted:  good Data:  (0, 3, 2, 2, 2, 1) Actual:  good\n",
      "Predicted:  unacc Data:  (0, 0, 1, 1, 0, 0) Actual:  unacc\n",
      "Predicted:  unacc Data:  (2, 3, 1, 2, 0, 2) Actual:  unacc\n",
      "Predicted:  good Data:  (0, 3, 3, 1, 1, 0) Actual:  good\n",
      "Predicted:  good Data:  (0, 1, 1, 2, 1, 2) Actual:  unacc\n",
      "Predicted:  good Data:  (0, 0, 1, 0, 0, 0) Actual:  good\n",
      "Predicted:  good Data:  (2, 1, 2, 0, 2, 0) Actual:  good\n",
      "Predicted:  good Data:  (3, 3, 2, 1, 1, 0) Actual:  good\n",
      "Predicted:  good Data:  (0, 3, 1, 1, 1, 0) Actual:  good\n",
      "Predicted:  good Data:  (2, 3, 3, 0, 2, 2) Actual:  good\n",
      "Predicted:  unacc Data:  (0, 2, 2, 1, 0, 2) Actual:  unacc\n",
      "Predicted:  good Data:  (0, 1, 1, 0, 1, 2) Actual:  good\n",
      "Predicted:  good Data:  (0, 3, 3, 2, 0, 2) Actual:  good\n",
      "Predicted:  good Data:  (2, 2, 0, 1, 1, 1) Actual:  good\n",
      "Predicted:  unacc Data:  (2, 2, 0, 1, 2, 0) Actual:  unacc\n",
      "Predicted:  good Data:  (3, 3, 2, 2, 1, 1) Actual:  good\n",
      "Predicted:  unacc Data:  (2, 3, 1, 1, 2, 0) Actual:  unacc\n",
      "Predicted:  good Data:  (2, 2, 0, 0, 1, 2) Actual:  good\n",
      "Predicted:  good Data:  (1, 0, 3, 0, 0, 1) Actual:  good\n",
      "Predicted:  good Data:  (3, 1, 3, 0, 0, 2) Actual:  good\n",
      "Predicted:  good Data:  (0, 2, 1, 0, 2, 2) Actual:  good\n",
      "Predicted:  good Data:  (2, 0, 3, 1, 2, 2) Actual:  good\n",
      "Predicted:  unacc Data:  (3, 2, 0, 2, 0, 0) Actual:  unacc\n",
      "Predicted:  unacc Data:  (1, 0, 1, 1, 0, 2) Actual:  unacc\n",
      "Predicted:  good Data:  (2, 1, 2, 0, 2, 2) Actual:  good\n",
      "Predicted:  good Data:  (3, 1, 1, 0, 1, 1) Actual:  good\n",
      "Predicted:  unacc Data:  (0, 0, 0, 2, 0, 2) Actual:  unacc\n",
      "Predicted:  good Data:  (0, 0, 1, 0, 0, 2) Actual:  good\n",
      "Predicted:  good Data:  (2, 1, 0, 1, 2, 2) Actual:  unacc\n",
      "Predicted:  good Data:  (3, 1, 3, 2, 1, 1) Actual:  good\n",
      "Predicted:  good Data:  (3, 1, 3, 2, 0, 1) Actual:  good\n",
      "Predicted:  good Data:  (2, 3, 0, 1, 2, 2) Actual:  good\n",
      "Predicted:  good Data:  (2, 1, 1, 0, 2, 1) Actual:  good\n",
      "Predicted:  good Data:  (2, 2, 2, 2, 1, 1) Actual:  good\n",
      "Predicted:  good Data:  (3, 0, 2, 0, 1, 0) Actual:  good\n",
      "Predicted:  good Data:  (1, 3, 2, 0, 1, 2) Actual:  good\n",
      "Predicted:  good Data:  (1, 2, 0, 0, 1, 1) Actual:  good\n",
      "Predicted:  unacc Data:  (0, 2, 2, 2, 0, 0) Actual:  unacc\n",
      "Predicted:  good Data:  (1, 2, 1, 1, 0, 1) Actual:  good\n",
      "Predicted:  good Data:  (1, 3, 2, 2, 0, 1) Actual:  good\n",
      "Predicted:  good Data:  (1, 2, 0, 0, 0, 0) Actual:  good\n",
      "Predicted:  good Data:  (3, 1, 1, 2, 1, 2) Actual:  unacc\n",
      "Predicted:  unacc Data:  (0, 1, 3, 1, 1, 2) Actual:  unacc\n",
      "Predicted:  acc Data:  (1, 2, 2, 2, 1, 2) Actual:  acc\n",
      "Predicted:  good Data:  (0, 0, 1, 0, 2, 2) Actual:  good\n",
      "Predicted:  good Data:  (3, 0, 0, 2, 1, 1) Actual:  good\n",
      "Predicted:  good Data:  (3, 3, 3, 1, 0, 2) Actual:  good\n",
      "Predicted:  good Data:  (2, 0, 0, 0, 1, 1) Actual:  good\n",
      "Predicted:  unacc Data:  (3, 3, 0, 2, 0, 0) Actual:  good\n",
      "Predicted:  good Data:  (1, 3, 3, 0, 1, 1) Actual:  good\n",
      "Predicted:  unacc Data:  (0, 1, 3, 1, 2, 0) Actual:  unacc\n",
      "Predicted:  acc Data:  (1, 1, 1, 2, 0, 2) Actual:  acc\n",
      "Predicted:  good Data:  (0, 0, 2, 2, 1, 1) Actual:  good\n",
      "Predicted:  good Data:  (2, 3, 2, 0, 0, 1) Actual:  good\n",
      "Predicted:  good Data:  (1, 3, 0, 2, 0, 2) Actual:  unacc\n",
      "Predicted:  good Data:  (3, 0, 3, 0, 2, 0) Actual:  good\n",
      "Predicted:  good Data:  (3, 1, 0, 0, 0, 0) Actual:  good\n",
      "Predicted:  unacc Data:  (1, 3, 2, 2, 0, 0) Actual:  unacc\n",
      "Predicted:  good Data:  (0, 3, 2, 2, 0, 1) Actual:  good\n",
      "Predicted:  unacc Data:  (1, 0, 1, 1, 1, 2) Actual:  unacc\n",
      "Predicted:  good Data:  (1, 0, 3, 1, 1, 1) Actual:  good\n",
      "Predicted:  good Data:  (0, 3, 1, 1, 1, 2) Actual:  good\n",
      "Predicted:  good Data:  (1, 3, 0, 0, 2, 0) Actual:  good\n",
      "Predicted:  good Data:  (2, 0, 2, 2, 1, 2) Actual:  unacc\n",
      "Predicted:  good Data:  (0, 1, 0, 2, 1, 2) Actual:  good\n",
      "Predicted:  unacc Data:  (1, 1, 3, 2, 2, 2) Actual:  unacc\n",
      "Predicted:  good Data:  (1, 1, 1, 0, 2, 0) Actual:  good\n",
      "Predicted:  good Data:  (0, 2, 2, 2, 2, 2) Actual:  good\n",
      "Predicted:  good Data:  (2, 3, 1, 2, 1, 1) Actual:  good\n",
      "Predicted:  unacc Data:  (2, 3, 1, 2, 2, 0) Actual:  unacc\n",
      "Predicted:  good Data:  (0, 1, 0, 1, 0, 1) Actual:  good\n",
      "Predicted:  good Data:  (1, 0, 2, 2, 2, 1) Actual:  good\n",
      "Predicted:  good Data:  (1, 3, 2, 1, 2, 0) Actual:  unacc\n",
      "Predicted:  good Data:  (3, 3, 2, 1, 1, 2) Actual:  good\n",
      "Predicted:  good Data:  (3, 0, 1, 2, 2, 2) Actual:  good\n",
      "Predicted:  good Data:  (1, 1, 3, 0, 2, 0) Actual:  good\n",
      "Predicted:  good Data:  (0, 3, 1, 0, 1, 0) Actual:  good\n",
      "Predicted:  good Data:  (3, 3, 1, 2, 0, 0) Actual:  good\n",
      "Predicted:  unacc Data:  (1, 3, 2, 2, 0, 2) Actual:  unacc\n",
      "Predicted:  good Data:  (3, 0, 3, 2, 1, 1) Actual:  good\n",
      "Predicted:  good Data:  (1, 1, 0, 2, 2, 0) Actual:  good\n",
      "Predicted:  good Data:  (1, 3, 1, 0, 1, 0) Actual:  good\n",
      "Predicted:  good Data:  (2, 2, 0, 1, 2, 1) Actual:  good\n",
      "Predicted:  good Data:  (2, 1, 0, 0, 2, 1) Actual:  good\n",
      "Predicted:  unacc Data:  (1, 2, 3, 2, 2, 0) Actual:  acc\n",
      "Predicted:  good Data:  (3, 2, 0, 1, 1, 1) Actual:  good\n",
      "Predicted:  unacc Data:  (3, 1, 0, 2, 0, 2) Actual:  unacc\n",
      "Predicted:  unacc Data:  (3, 1, 3, 1, 1, 2) Actual:  unacc\n",
      "Predicted:  good Data:  (3, 0, 0, 2, 1, 0) Actual:  good\n",
      "Predicted:  good Data:  (1, 3, 2, 1, 2, 2) Actual:  good\n",
      "Predicted:  good Data:  (1, 3, 3, 0, 2, 2) Actual:  good\n",
      "Predicted:  unacc Data:  (2, 2, 2, 1, 1, 2) Actual:  unacc\n",
      "Predicted:  good Data:  (3, 1, 2, 1, 2, 2) Actual:  good\n",
      "Predicted:  good Data:  (0, 3, 2, 1, 2, 2) Actual:  good\n",
      "Predicted:  acc Data:  (1, 2, 1, 1, 2, 0) Actual:  acc\n",
      "Predicted:  good Data:  (0, 0, 1, 0, 1, 2) Actual:  good\n",
      "Predicted:  acc Data:  (1, 1, 1, 2, 2, 0) Actual:  acc\n",
      "Predicted:  good Data:  (3, 3, 3, 0, 0, 0) Actual:  good\n",
      "Predicted:  good Data:  (2, 1, 3, 0, 2, 0) Actual:  good\n",
      "Predicted:  unacc Data:  (1, 3, 2, 2, 2, 0) Actual:  unacc\n",
      "Predicted:  good Data:  (3, 1, 3, 0, 2, 0) Actual:  good\n",
      "Predicted:  good Data:  (0, 2, 1, 0, 2, 1) Actual:  good\n",
      "Predicted:  good Data:  (3, 1, 3, 0, 0, 0) Actual:  good\n",
      "Predicted:  good Data:  (2, 1, 1, 2, 0, 1) Actual:  good\n",
      "Predicted:  acc Data:  (1, 1, 3, 1, 2, 0) Actual:  acc\n",
      "Predicted:  good Data:  (3, 2, 1, 1, 2, 1) Actual:  good\n",
      "Predicted:  good Data:  (3, 3, 3, 2, 0, 0) Actual:  good\n",
      "Predicted:  good Data:  (3, 2, 1, 1, 1, 2) Actual:  good\n",
      "Predicted:  unacc Data:  (0, 2, 1, 1, 1, 0) Actual:  unacc\n",
      "Predicted:  vgood Data:  (1, 1, 1, 1, 0, 0) Actual:  vgood\n",
      "Predicted:  good Data:  (3, 2, 3, 1, 2, 1) Actual:  good\n",
      "Predicted:  acc Data:  (2, 1, 1, 1, 2, 0) Actual:  acc\n",
      "Predicted:  good Data:  (3, 2, 1, 2, 2, 2) Actual:  good\n",
      "Predicted:  unacc Data:  (3, 2, 1, 1, 1, 0) Actual:  unacc\n",
      "Predicted:  good Data:  (2, 1, 1, 1, 2, 2) Actual:  unacc\n",
      "Predicted:  good Data:  (0, 1, 0, 1, 2, 1) Actual:  good\n",
      "Predicted:  good Data:  (2, 3, 0, 0, 1, 1) Actual:  good\n",
      "Predicted:  good Data:  (3, 0, 3, 1, 1, 1) Actual:  good\n",
      "Predicted:  good Data:  (3, 2, 0, 0, 2, 0) Actual:  good\n",
      "Predicted:  good Data:  (0, 3, 3, 0, 2, 2) Actual:  good\n",
      "Predicted:  good Data:  (3, 3, 1, 1, 0, 0) Actual:  good\n",
      "Predicted:  unacc Data:  (2, 3, 1, 2, 1, 0) Actual:  unacc\n",
      "Predicted:  good Data:  (2, 0, 0, 2, 1, 1) Actual:  good\n",
      "Predicted:  good Data:  (1, 3, 3, 0, 2, 1) Actual:  good\n",
      "Predicted:  acc Data:  (1, 2, 3, 2, 0, 2) Actual:  acc\n",
      "Predicted:  good Data:  (1, 3, 1, 2, 1, 2) Actual:  unacc\n",
      "Predicted:  good Data:  (0, 0, 2, 0, 2, 0) Actual:  good\n",
      "Predicted:  good Data:  (1, 2, 0, 2, 0, 1) Actual:  good\n",
      "Predicted:  good Data:  (3, 2, 1, 0, 1, 0) Actual:  good\n"
     ]
    }
   ],
   "source": [
    "predicted = model.predict(x_test)\n",
    "names = [\"unacc\", \"acc\", \"good\", \"vgood\"]\n",
    "\n",
    "\n",
    "for x in range(len(predicted)):\n",
    "    print(\"Predicted: \", names[predicted[x]], \"Data: \", x_test[x], \"Actual: \", names[y_test[x]])"
   ]
  },
  {
   "cell_type": "code",
   "execution_count": null,
   "id": "7e4b51da-3d18-4860-8135-b4a0f4eda9db",
   "metadata": {},
   "outputs": [],
   "source": []
  }
 ],
 "metadata": {
  "kernelspec": {
   "display_name": "Python 3",
   "language": "python",
   "name": "python3"
  },
  "language_info": {
   "codemirror_mode": {
    "name": "ipython",
    "version": 3
   },
   "file_extension": ".py",
   "mimetype": "text/x-python",
   "name": "python",
   "nbconvert_exporter": "python",
   "pygments_lexer": "ipython3",
   "version": "3.8.8"
  }
 },
 "nbformat": 4,
 "nbformat_minor": 5
}
